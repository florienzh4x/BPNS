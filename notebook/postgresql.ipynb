{
 "cells": [
  {
   "cell_type": "code",
   "execution_count": null,
   "id": "744bff86",
   "metadata": {},
   "outputs": [],
   "source": [
    "import sys\n",
    "import os\n",
    "import json\n",
    "\n",
    "# Cari path ke project_root dari lokasi notebook\n",
    "notebook_dir = os.path.dirname(os.path.abspath(__file__)) if '__file__' in globals() else os.getcwd()\n",
    "project_root = os.path.abspath(os.path.join(notebook_dir, '..'))\n",
    "\n",
    "# Tambahkan project root ke sys.path jika belum ada\n",
    "if project_root not in sys.path:\n",
    "    sys.path.insert(0, project_root)\n",
    "    \n",
    "from utils.database import Database\n",
    "\n",
    "db = Database()\n",
    "\n",
    "db_metadata = db.impl.get_load_status()\n",
    "db_metadata"
   ]
  },
  {
   "cell_type": "code",
   "execution_count": null,
   "id": "a11ba54b",
   "metadata": {},
   "outputs": [],
   "source": [
    "import os\n",
    "from utils.database import Database\n",
    "from script.ingestion import Ingestion\n",
    "\n",
    "db = Database(\"postgresql\", \"localhost\", 5432, \"postgres\", \"postgres\", \"dvdrental\")\n",
    "ingestion = Ingestion(\n",
    "                db, \n",
    "                \"MINIO_ENDPOINT\", \n",
    "                \"MINIO_ACCESS_KEY\", \n",
    "                \"MINIO_SECRET_KEY\", \n",
    "                \"MINIO_SECURE\", \n",
    "                \"MINIO_BUCKET_NAME\"\n",
    "            )\n",
    "\n",
    "ingestion.extract()"
   ]
  },
  {
   "cell_type": "code",
   "execution_count": null,
   "id": "bb74c805",
   "metadata": {},
   "outputs": [],
   "source": [
    "import pandas as pd\n",
    "import pyarrow.parquet as pq\n",
    "import pyarrow as pa \n",
    "import io\n",
    "from minio import Minio\n",
    "from datetime import datetime\n",
    "\n",
    "\n",
    "client = Minio(\n",
    "        \"localhost:9000\",\n",
    "        access_key=\"admin_minio\",\n",
    "        secret_key=\"admin_minio\",\n",
    "        secure=False\n",
    "    )\n",
    "\n",
    "\n",
    "\n",
    "for schema, table_list in db_metadata.items():\n",
    "    for table in table_list:\n",
    "        \n",
    "        current_date = datetime.now().strftime(\"%Y-%m-%d\")\n",
    "        \n",
    "        df = pd.read_sql(f\"SELECT * FROM {schema}.{table['table']}\", db.impl.engine)\n",
    "        \n",
    "        # pq.write_table(pa.Table.from_pandas(df), f\"{table['table']}.parquet\", compression=\"snappy\")\n",
    "        \n",
    "        buffer = io.BytesIO()\n",
    "        pq.write_table(pa.Table.from_pandas(df), buffer, compression=\"snappy\")\n",
    "        buffer.seek(0)\n",
    "        \n",
    "        client.put_object(\n",
    "            bucket_name=\"landing-zones\",\n",
    "            object_name=f\"{DB_NAME}/{schema}/{table['table']}/latest/{table['table']}.parquet\",\n",
    "            data=buffer,\n",
    "            length=len(buffer.getvalue()),\n",
    "            content_type=\"application/vnd.apache.parquet\"\n",
    "        )"
   ]
  },
  {
   "cell_type": "code",
   "execution_count": null,
   "id": "e44ecd44",
   "metadata": {},
   "outputs": [],
   "source": [
    "print(buffer.getvalue()[:4]) "
   ]
  },
  {
   "cell_type": "code",
   "execution_count": null,
   "id": "9d78b7b9",
   "metadata": {},
   "outputs": [],
   "source": [
    "# GET DATA LOAD ALL\n",
    "\n",
    "import pandas as pd\n",
    "\n",
    "df_chunks = pd.read_sql(\"SELECT * FROM category\", db.impl.engine, chunksize=10000)\n",
    "type(df_chunks)\n",
    "\n",
    "for df in df_chunks:\n",
    "    # print(df)\n",
    "    break\n",
    "\n",
    "dff = pd.read_sql(\"SELECT * FROM category\", db.impl.engine)\n",
    "df_list = []\n",
    "df_list.append(dff)\n",
    "for df in df_list:\n",
    "    dfff = df\n",
    "    \n",
    "dfff"
   ]
  },
  {
   "cell_type": "code",
   "execution_count": null,
   "id": "b9f70a69",
   "metadata": {},
   "outputs": [],
   "source": [
    "# GET DATA LOAD INCREMENTAL\n",
    "\n",
    "import pandas as pd \n",
    "from datetime import datetime\n",
    "\n",
    "current_date = datetime.now().strftime(\"%Y-%m-%d\")\n",
    "\n",
    "df = pd.read_sql(f\"SELECT * FROM inventory where updated_at >= '{current_date}'\", db.impl.engine)\n",
    "print(df.dtypes)"
   ]
  },
  {
   "cell_type": "code",
   "execution_count": null,
   "id": "d125d59f",
   "metadata": {},
   "outputs": [],
   "source": [
    "import pyarrow.parquet as pq\n",
    "import pyarrow as pa\n",
    "import pandas as pd \n",
    "import io\n",
    "\n",
    "\n",
    "df = pd.read_sql(f\"SELECT * FROM film\", db.impl.engine)\n",
    "# print(df.dtypes)\n",
    "\n",
    "pq.write_table(pa.Table.from_pandas(df), \"film.parquet\", compression=\"snappy\")\n",
    "\n",
    "# buffer = io.BytesIO()\n",
    "# pq.write_table(pa.Table.from_pandas(df), buffer, compression=\"snappy\")\n",
    "# buffer.seek(0)"
   ]
  },
  {
   "cell_type": "code",
   "execution_count": null,
   "id": "a75e256e",
   "metadata": {},
   "outputs": [],
   "source": [
    "from minio import Minio\n",
    "from minio.error import S3Error\n",
    "\n",
    "client = Minio(\n",
    "        \"localhost:9000\",\n",
    "        access_key=\"admin_minio\",\n",
    "        secret_key=\"admin_minio\",\n",
    "        secure=False\n",
    "    )\n",
    "\n",
    "client.put_object(\n",
    "        bucket_name=\"data\",\n",
    "        object_name=\"public/staff.parquet\",\n",
    "        data=buffer,\n",
    "        length=len(buffer.getvalue()),\n",
    "        content_type=\"application/vnd.apache.parquet\"\n",
    "    )"
   ]
  },
  {
   "cell_type": "code",
   "execution_count": null,
   "id": "37627436",
   "metadata": {},
   "outputs": [],
   "source": [
    "from minio import Minio\n",
    "from minio.error import S3Error\n",
    "from minio.commonconfig import CopySource\n",
    "\n",
    "\n",
    "client = Minio(\n",
    "        \"localhost:9000\",\n",
    "        access_key=\"admin_minio\",\n",
    "        secret_key=\"admin_minio\",\n",
    "        secure=False\n",
    "    )\n",
    "\n",
    "# get bucket lists\n",
    "buckets = client.list_buckets()\n",
    "bucket_list = []\n",
    "for bucket in buckets:\n",
    "    bucket_list.append(bucket.name)\n",
    "\n",
    "bucket_list\n",
    "# ['landing-zones']\n",
    "\n",
    "# list object\n",
    "object_list = []\n",
    "for object in client.list_objects(bucket_name=\"landing-zones\", prefix=\"dvdrental/public/actor/latests/\"):\n",
    "    object_list.append(object.object_name)\n",
    "\n",
    "if not object_list:\n",
    "    print(\"object not found\")"
   ]
  },
  {
   "cell_type": "code",
   "execution_count": null,
   "id": "0c1e86f4",
   "metadata": {},
   "outputs": [],
   "source": [
    "import os\n",
    "\n",
    "xx = os.getenv(\"TEST_ENV\")\n",
    "xx"
   ]
  },
  {
   "cell_type": "code",
   "execution_count": null,
   "id": "fd6d60b0",
   "metadata": {},
   "outputs": [],
   "source": [
    "xx = (\"a\", \"b\")\n",
    "if type(xx) == tuple:\n",
    "    print(\"tuple\")\n",
    "else:\n",
    "    print(\"not tuple\")"
   ]
  },
  {
   "cell_type": "code",
   "execution_count": null,
   "id": "8a1e0ff3",
   "metadata": {},
   "outputs": [],
   "source": [
    "from sqlalchemy import create_engine\n",
    "from sqlalchemy.schema import Table, MetaData\n",
    "from sqlalchemy.sql.expression import select, text\n",
    "import pandas as pd\n",
    "\n",
    "engine = create_engine('trino://admin@localhost:8443/minio', connect_args={'http_scheme': 'https', 'verify': False})\n",
    "\n",
    "df = pd.read_sql(\"SELECT * FROM minio.dvdrental.customer\", engine)\n",
    "df"
   ]
  }
 ],
 "metadata": {
  "kernelspec": {
   "display_name": ".venv",
   "language": "python",
   "name": "python3"
  },
  "language_info": {
   "codemirror_mode": {
    "name": "ipython",
    "version": 3
   },
   "file_extension": ".py",
   "mimetype": "text/x-python",
   "name": "python",
   "nbconvert_exporter": "python",
   "pygments_lexer": "ipython3",
   "version": "3.12.11"
  }
 },
 "nbformat": 4,
 "nbformat_minor": 5
}
