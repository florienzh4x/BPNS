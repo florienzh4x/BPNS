{
 "cells": [
  {
   "cell_type": "code",
   "execution_count": 4,
   "id": "744bff86",
   "metadata": {},
   "outputs": [
    {
     "data": {
      "text/plain": [
       "{'public': [{'table': 'actor', 'incremental': False},\n",
       "  {'table': 'store', 'incremental': False},\n",
       "  {'table': 'address', 'incremental': False},\n",
       "  {'table': 'category', 'incremental': False},\n",
       "  {'table': 'city', 'incremental': False},\n",
       "  {'table': 'country', 'incremental': False},\n",
       "  {'table': 'film_actor', 'incremental': False},\n",
       "  {'table': 'film_category', 'incremental': False},\n",
       "  {'table': 'inventory', 'incremental': False},\n",
       "  {'table': 'language', 'incremental': False},\n",
       "  {'table': 'payment', 'incremental': True},\n",
       "  {'table': 'staff', 'incremental': False},\n",
       "  {'table': 'customer', 'incremental': True},\n",
       "  {'table': 'rental', 'incremental': True},\n",
       "  {'table': 'film', 'incremental': True}]}"
      ]
     },
     "execution_count": 4,
     "metadata": {},
     "output_type": "execute_result"
    }
   ],
   "source": [
    "import sys\n",
    "import os\n",
    "import json\n",
    "\n",
    "# Cari path ke project_root dari lokasi notebook\n",
    "notebook_dir = os.path.dirname(os.path.abspath(__file__)) if '__file__' in globals() else os.getcwd()\n",
    "project_root = os.path.abspath(os.path.join(notebook_dir, '..'))\n",
    "\n",
    "# Tambahkan project root ke sys.path jika belum ada\n",
    "if project_root not in sys.path:\n",
    "    sys.path.insert(0, project_root)\n",
    "    \n",
    "DB_USERNAME = \"postgres\"\n",
    "DB_PASSWORD = \"postgres\"\n",
    "DB_HOST = \"localhost\"\n",
    "DB_PORT = \"5432\"\n",
    "DB_NAME = \"dvdrental\"\n",
    "\n",
    "\n",
    "from utils.database import Database\n",
    "\n",
    "db = Database(\"postgresql\", DB_HOST, DB_PORT, DB_USERNAME, DB_PASSWORD, DB_NAME, \"public\")\n",
    "\n",
    "db_metadata = db.impl.get_load_status()\n",
    "db_metadata"
   ]
  },
  {
   "cell_type": "code",
   "execution_count": null,
   "id": "bb74c805",
   "metadata": {},
   "outputs": [
    {
     "name": "stdout",
     "output_type": "stream",
     "text": [
      "application/octet-stream\n",
      "application/octet-stream\n",
      "application/octet-stream\n",
      "application/octet-stream\n",
      "application/octet-stream\n",
      "application/octet-stream\n",
      "application/octet-stream\n",
      "application/octet-stream\n",
      "application/octet-stream\n",
      "application/octet-stream\n",
      "application/octet-stream\n",
      "application/octet-stream\n",
      "application/octet-stream\n",
      "application/octet-stream\n",
      "application/octet-stream\n"
     ]
    }
   ],
   "source": [
    "import pandas as pd\n",
    "import pyarrow.parquet as pq\n",
    "import pyarrow as pa \n",
    "import io\n",
    "from minio import Minio\n",
    "from datetime import datetime\n",
    "\n",
    "\n",
    "client = Minio(\n",
    "        \"localhost:9000\",\n",
    "        access_key=\"admin_minio\",\n",
    "        secret_key=\"admin_minio\",\n",
    "        secure=False\n",
    "    )\n",
    "\n",
    "\n",
    "\n",
    "for schema, table_list in db_metadata.items():\n",
    "    for table in table_list:\n",
    "        \n",
    "        current_date = datetime.now().strftime(\"%Y-%m-%d\")\n",
    "        \n",
    "        df = pd.read_sql(f\"SELECT * FROM {schema}.{table['table']}\", db.impl.engine)\n",
    "        \n",
    "        # pq.write_table(pa.Table.from_pandas(df), f\"{table['table']}.parquet\", compression=\"snappy\")\n",
    "        \n",
    "        buffer = io.BytesIO()\n",
    "        pq.write_table(pa.Table.from_pandas(df), buffer, compression=\"snappy\")\n",
    "        buffer.seek(0)\n",
    "        \n",
    "        # client.put_object(\n",
    "        #     bucket_name=\"landing-zones\",\n",
    "        #     object_name=f\"{DB_NAME}/{schema}/{table['table']}/{current_date}/{table['table']}.parquet\",\n",
    "        #     data=buffer,\n",
    "        #     length=len(buffer.getvalue()),\n",
    "        #     content_type=\"application/vnd.apache.parquet\"\n",
    "        # )"
   ]
  },
  {
   "cell_type": "code",
   "execution_count": 3,
   "id": "e44ecd44",
   "metadata": {},
   "outputs": [
    {
     "name": "stdout",
     "output_type": "stream",
     "text": [
      "b'PAR1'\n"
     ]
    }
   ],
   "source": [
    "print(buffer.getvalue()[:4]) "
   ]
  },
  {
   "cell_type": "code",
   "execution_count": null,
   "id": "9d78b7b9",
   "metadata": {},
   "outputs": [],
   "source": [
    "# GET DATA LOAD ALL\n",
    "\n",
    "import pandas as pd\n",
    "\n",
    "df_chunks = pd.read_sql(\"SELECT * FROM category\", db.impl.engine, chunksize=10000)\n",
    "\n",
    "for df in df_chunks:\n",
    "    print(df.dtypes)\n",
    "    break"
   ]
  },
  {
   "cell_type": "code",
   "execution_count": null,
   "id": "b9f70a69",
   "metadata": {},
   "outputs": [],
   "source": [
    "# GET DATA LOAD INCREMENTAL\n",
    "\n",
    "import pandas as pd \n",
    "from datetime import datetime\n",
    "\n",
    "current_date = datetime.now().strftime(\"%Y-%m-%d\")\n",
    "\n",
    "df = pd.read_sql(f\"SELECT * FROM inventory where updated_at >= '{current_date}'\", db.impl.engine)\n",
    "print(df.dtypes)"
   ]
  },
  {
   "cell_type": "code",
   "execution_count": null,
   "id": "d125d59f",
   "metadata": {},
   "outputs": [],
   "source": [
    "import pyarrow.parquet as pq\n",
    "import pyarrow as pa\n",
    "import pandas as pd \n",
    "import io\n",
    "\n",
    "\n",
    "df = pd.read_sql(f\"SELECT * FROM film\", db.impl.engine)\n",
    "# print(df.dtypes)\n",
    "\n",
    "pq.write_table(pa.Table.from_pandas(df), \"film.parquet\", compression=\"snappy\")\n",
    "\n",
    "# buffer = io.BytesIO()\n",
    "# pq.write_table(pa.Table.from_pandas(df), buffer, compression=\"snappy\")\n",
    "# buffer.seek(0)"
   ]
  },
  {
   "cell_type": "code",
   "execution_count": null,
   "id": "a75e256e",
   "metadata": {},
   "outputs": [],
   "source": [
    "from minio import Minio\n",
    "from minio.error import S3Error\n",
    "\n",
    "client = Minio(\n",
    "        \"localhost:9000\",\n",
    "        access_key=\"admin_minio\",\n",
    "        secret_key=\"admin_minio\",\n",
    "        secure=False\n",
    "    )\n",
    "\n",
    "client.put_object(\n",
    "        bucket_name=\"data\",\n",
    "        object_name=\"public/staff.parquet\",\n",
    "        data=buffer,\n",
    "        length=len(buffer.getvalue()),\n",
    "        content_type=\"application/vnd.apache.parquet\"\n",
    "    )"
   ]
  }
 ],
 "metadata": {
  "kernelspec": {
   "display_name": ".venv",
   "language": "python",
   "name": ".venv"
  },
  "language_info": {
   "codemirror_mode": {
    "name": "ipython",
    "version": 3
   },
   "file_extension": ".py",
   "mimetype": "text/x-python",
   "name": "python",
   "nbconvert_exporter": "python",
   "pygments_lexer": "ipython3",
   "version": "3.12.11"
  }
 },
 "nbformat": 4,
 "nbformat_minor": 5
}
